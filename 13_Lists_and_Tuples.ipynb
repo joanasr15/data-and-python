{
  "nbformat": 4,
  "nbformat_minor": 0,
  "metadata": {
    "colab": {
      "provenance": [],
      "include_colab_link": true
    },
    "kernelspec": {
      "name": "python3",
      "display_name": "Python 3"
    },
    "language_info": {
      "name": "python"
    }
  },
  "cells": [
    {
      "cell_type": "markdown",
      "metadata": {
        "id": "view-in-github",
        "colab_type": "text"
      },
      "source": [
        "<a href=\"https://colab.research.google.com/github/joanasr15/data-and-python/blob/main/13_Lists_and_Tuples.ipynb\" target=\"_parent\"><img src=\"https://colab.research.google.com/assets/colab-badge.svg\" alt=\"Open In Colab\"/></a>"
      ]
    },
    {
      "cell_type": "markdown",
      "metadata": {
        "id": "Z-M-RCWATK71"
      },
      "source": [
        "# Lists and tuples\n",
        "\n",
        "Often we need to store a number of single items of data together so that they can be processed together. This might be because all the data refers to one person (e.g. name, age, gender, etc) OR it might be because we have a set of data (e.g. all the items that should be displayed in a drop down list, such as all the years from this year back to 100 years ago so that someone can select their year of birth)\n",
        "\n",
        "Python has a range of data structures available including:\n",
        "*   lists  \n",
        "*   tuples  \n",
        "*   dictionaries  \n",
        "*   sets\n",
        "\n",
        "This worksheet looks at lists and tuples.\n",
        "\n",
        "## List\n",
        "A list is a set of related, individual data objects, that are indexed and can be processed as a whole, as subsets or as individual items.  Lists are stored, essentially, as contiguous items in memory so that access can be as quick as possible.  However, they are mutable (they can be changed after they are created and stored) and so those mechanisms need to include extra functionality to deal with changing list sizes.\n",
        "\n",
        "## Tuple\n",
        "Essentially the same as a list but it is immutable.  Once it has been created it can't be changed.  It is stored in memory as contiguous items, with the size required being fixed right from the start.  This makes it faster to access.\n",
        "\n",
        "The code below will create two lists and a tuple.\n",
        "*   the first list contains 1000 random numbers between 1 and 100\n",
        "*   the second list is of random length (up to 5000) and each item is one of the 9 characteristics that are protected under the Equality Act in the UK.\n",
        "*   the tuple contains the 9 protected characteristics\n",
        "\n",
        "Before you start the exercises, run the code below.  It will generate the lists and tuple so that you can use them in the exercises.  If you need to recreate the lists again (because you have changed them and need to work on the originals, just run this cell again).\n",
        "\n",
        "***Note:***  *a list variable contains a reference to the start of the list in memory, rather than storing the list itself.  This means that if you assign the list to another variable (to make a copy), it will only copy across the reference.  If you change the copy, you change the original list.*\n",
        "\n",
        "*If you need to make a copy of the list you will need to use a loop to create a new list and copy all items across.*"
      ]
    },
    {
      "cell_type": "code",
      "metadata": {
        "id": "BDRckXeQXFMT"
      },
      "source": [
        "from random import randint, choice\n",
        "\n",
        "def get_num_list():\n",
        "  num_list = [randint(1,100) for n in range(1000)]\n",
        "  return num_list\n",
        "\n",
        "def get_protected_characteristics():\n",
        "  characteristics_tuple = ('age','disability','gender reassignment','marriage and civil partnership','pregnancy and maternity','race','religion or belief','sex','sexual orientation')\n",
        "  return characteristics_tuple\n",
        "\n",
        "def get_protected_characteristic_list(protected_characteristics):\n",
        "  char_list = [choice(protected_characteristics) for ch in range(randint(1,5000))]\n",
        "  return char_list\n",
        "\n",
        "nums = get_num_list()\n",
        "protected_characteristics = get_protected_characteristics()\n",
        "characteristics = get_protected_characteristic_list(protected_characteristics)"
      ],
      "execution_count": 79,
      "outputs": []
    },
    {
      "cell_type": "markdown",
      "metadata": {
        "id": "xXT38-4ZV45n"
      },
      "source": [
        "## The exercises below will use the lists:  \n",
        "*   **nums** (a list of between 1 and 1000 random numbers, each number is between 0 and 1000)\n",
        "*   **characteristics** (a list of 5000 random protected_characteristics)\n",
        "\n",
        "and the tuple:\n",
        "*  **protected_characteristics** (a set of the 9 protected characteristics identified in the Equality Act)\n",
        "\n",
        "## You can run the cell above any number of times to generate new lists."
      ]
    },
    {
      "cell_type": "markdown",
      "metadata": {
        "id": "Ft0dXl7fUuaK"
      },
      "source": [
        "---\n",
        "### Exercise 1 - list head, tail and shape\n",
        "\n",
        "Write a function, **describe_list()** which will:\n",
        "*  print the length of the list `nums`\n",
        "*  print the first 10 items in `nums`  \n",
        "*  print the last 5 items in `nums`"
      ]
    },
    {
      "cell_type": "code",
      "metadata": {
        "id": "jUcZD7mmTJdA",
        "colab": {
          "base_uri": "https://localhost:8080/"
        },
        "outputId": "dc46f371-f540-4002-f27f-a46b83ddcc2f"
      },
      "source": [
        "def describe_list():\n",
        "\n",
        "  print((len(nums)))\n",
        "\n",
        "  print(nums[1:11])\n",
        "\n",
        "  print(nums[-1000:-994])\n",
        "\n",
        "describe_list()"
      ],
      "execution_count": null,
      "outputs": [
        {
          "output_type": "stream",
          "name": "stdout",
          "text": [
            "1000\n",
            "[10, 65, 58, 56, 78, 37, 27, 41, 73, 98]\n",
            "[29, 10, 65, 58, 56, 78]\n"
          ]
        }
      ]
    },
    {
      "cell_type": "markdown",
      "metadata": {
        "id": "yNWg08k6bXv0"
      },
      "source": [
        "---\n",
        "### Exercise 2 - show tuple items\n",
        "\n",
        "Write a function which will:\n",
        "*   use a loop to print the list of protected characteristics from the `protected_characteristics` tuple.\n"
      ]
    },
    {
      "cell_type": "code",
      "metadata": {
        "id": "P2HnCG9pb1BS",
        "colab": {
          "base_uri": "https://localhost:8080/"
        },
        "outputId": "d22899d7-7f69-41f3-faa7-661bf2afea27"
      },
      "source": [
        "def print_list():\n",
        "\n",
        "  for i in range(len(protected_characteristics)):\n",
        "\n",
        "    print(protected_characteristics[i])\n",
        "\n",
        "print_list()"
      ],
      "execution_count": null,
      "outputs": [
        {
          "output_type": "stream",
          "name": "stdout",
          "text": [
            "age\n",
            "disability\n",
            "gender reassignment\n",
            "marriage and civil partnership\n",
            "pregnancy and maternity\n",
            "race\n",
            "religion or belief\n",
            "sex\n",
            "sexual orientation\n"
          ]
        }
      ]
    },
    {
      "cell_type": "markdown",
      "metadata": {
        "id": "RTSuQZs4b1JU"
      },
      "source": [
        "---\n",
        "### Exercise 3 - list a random subset\n",
        "\n",
        "Write a function which will:\n",
        "*  calculate the position of the middle item in the `characteristics` list   \n",
        "(*Hint: use len() to help with this*)\n",
        "*  calculate the position of the item that is 5 places before the middle item\n",
        "*  calculate the position of the item that is 5 places after the middle item\n",
        "*  print the part of the list that includes the items from 5 places before to 5 places after.  \n",
        "\n",
        "Expected output:  \n",
        "Your list will include 11 items."
      ]
    },
    {
      "cell_type": "code",
      "metadata": {
        "id": "OwhFnH2kdC11",
        "colab": {
          "base_uri": "https://localhost:8080/"
        },
        "outputId": "0ddbbd9a-bef1-4cee-ab0e-afbd38269a3c"
      },
      "source": [
        "def finding_middle_items():\n",
        "\n",
        "  middle_item = len(characteristics) // 2\n",
        "\n",
        "  five_before = middle_item - 5\n",
        "\n",
        "  five_after = middle_item + 5\n",
        "\n",
        "  for i in range(five_before, (five_after+1)):\n",
        "\n",
        "    print(characteristics[i])\n",
        "\n",
        "finding_middle_items()"
      ],
      "execution_count": null,
      "outputs": [
        {
          "output_type": "stream",
          "name": "stdout",
          "text": [
            "religion or belief\n",
            "race\n",
            "race\n",
            "pregnancy and maternity\n",
            "pregnancy and maternity\n",
            "pregnancy and maternity\n",
            "sex\n",
            "sexual orientation\n",
            "marriage and civil partnership\n",
            "sexual orientation\n",
            "sexual orientation\n"
          ]
        }
      ]
    },
    {
      "cell_type": "markdown",
      "metadata": {
        "id": "KS0x3oFNePI9"
      },
      "source": [
        "---\n",
        "### Exercise 4 - create a copy\n",
        "\n",
        "Write a function which will: use a for loop to create a copy of the `nums` list:\n",
        "\n",
        "*   create a new, empty, list called **new_nums**  (*Hint: an empty list is [ ]*)\n",
        "*   use a for loop which uses the following syntax:  `for num in nums:`\n",
        "*   each time round the loop append `num` to `new_nums`  ( *`new_nums.append(num)`*)\n",
        "*   print the first 10 items of `new_nums`\n",
        "*   print the first 10 items of `nums`\n",
        "*   print the length of both lists"
      ]
    },
    {
      "cell_type": "code",
      "metadata": {
        "id": "mpK1Ip3we-uC",
        "colab": {
          "base_uri": "https://localhost:8080/"
        },
        "outputId": "1de42097-dc6c-46f3-bcc1-26569bcff1b4"
      },
      "source": [
        "def list_copier():\n",
        "\n",
        "  new_nums = []\n",
        "\n",
        "  for num in nums:\n",
        "\n",
        "    new_nums.append(num)\n",
        "\n",
        "  print(\"New nums first 10 items are: \", new_nums[:10])\n",
        "\n",
        "  print(\"Nums first 10 items are: \", nums[:10])\n",
        "\n",
        "  print(\"New nums contains this many items: \", len(new_nums))\n",
        "\n",
        "  print(\"Nums contains this many items: \", len(nums))\n",
        "\n",
        "list_copier()"
      ],
      "execution_count": null,
      "outputs": [
        {
          "output_type": "stream",
          "name": "stdout",
          "text": [
            "New nums first 10 items are:  [29, 10, 65, 58, 56, 78, 37, 27, 41, 73]\n",
            "Nums first 10 items are:  [29, 10, 65, 58, 56, 78, 37, 27, 41, 73]\n",
            "New nums contains this many items:  1000\n",
            "Nums contains this many items:  1000\n"
          ]
        }
      ]
    },
    {
      "cell_type": "markdown",
      "metadata": {
        "id": "deUIFWjRe-3G"
      },
      "source": [
        "\n",
        "\n",
        "```\n",
        "# This is formatted as code\n",
        "```\n",
        "\n",
        "---\n",
        "### Exercise 5 - count the occurrence of age in characteristics\n",
        "\n",
        "Write a function which will use the list method:\n",
        "\n",
        "`num_items = list_name.count(item)`\n",
        "\n",
        "to count the number of occurrences of 'age' in the `characteristics` list.  Print the result."
      ]
    },
    {
      "cell_type": "code",
      "metadata": {
        "id": "b9TrHQ9hfoIU",
        "colab": {
          "base_uri": "https://localhost:8080/"
        },
        "outputId": "debe351b-b349-44f5-a923-615104222ce0"
      },
      "source": [
        "def occurrence_of_age():\n",
        "\n",
        "  num_items = characteristics.count(\"age\")\n",
        "\n",
        "  print(num_items)\n",
        "\n",
        "occurrence_of_age()"
      ],
      "execution_count": null,
      "outputs": [
        {
          "output_type": "stream",
          "name": "stdout",
          "text": [
            "493\n"
          ]
        }
      ]
    },
    {
      "cell_type": "markdown",
      "metadata": {
        "id": "zm2VI5RmfoSy"
      },
      "source": [
        "---\n",
        "### Exercise 6 - sort the nums list\n",
        "\n",
        "Write a function which will:\n",
        "*   call the function `get_num_list()` and store the result in a new list called **sort_nums**\n",
        "*   print the first, and last, 20 items in the `sort_nums` list\n",
        "*   use the `list_name.sort()` method to sort the `sort_nums` list into ascending order\n",
        "*   print the first, and last, 20 items again  \n",
        "*   use the `list_name.sort()` method again to sort the `sort_nums` list into descending order\n",
        "*   print the first, and last, 20 items again"
      ]
    },
    {
      "cell_type": "code",
      "metadata": {
        "id": "Fksgpj9JgWDs",
        "colab": {
          "base_uri": "https://localhost:8080/"
        },
        "outputId": "d69628af-ac30-4598-aa28-09765940c2fc"
      },
      "source": [
        "def sort_numbers():\n",
        "\n",
        "  sort_nums = []\n",
        "\n",
        "  for i in get_num_list():\n",
        "\n",
        "    sort_nums.append(i)\n",
        "\n",
        "  print(\"The first 20 items on the list are:\", sort_nums[:20])\n",
        "\n",
        "  print(\"The last 20 items on the list are:\", sort_nums[-20:])\n",
        "\n",
        "  sort_nums.sort()\n",
        "\n",
        "  print(\"The first 20 items on the list in ascending order are:\", sort_nums[:20])\n",
        "\n",
        "  print(\"The last 20 items on the list in ascending order are:\", sort_nums[-20:])\n",
        "\n",
        "  sort_nums.sort(reverse = True)\n",
        "\n",
        "  print(\"The first 20 items on the list in descending order are:\", sort_nums[:20])\n",
        "\n",
        "  print(\"The last 20 items on the list in descending order are:\", sort_nums[-20:])\n",
        "\n",
        "sort_numbers()"
      ],
      "execution_count": 8,
      "outputs": [
        {
          "output_type": "stream",
          "name": "stdout",
          "text": [
            "The first 20 items on the list are: [40, 32, 62, 98, 87, 52, 1, 42, 72, 27, 41, 40, 6, 5, 39, 96, 62, 98, 29, 43]\n",
            "The last 20 items on the list are: [62, 68, 63, 10, 63, 36, 14, 85, 87, 61, 85, 28, 36, 47, 99, 77, 42, 97, 90, 55]\n",
            "The first 20 items on the list in ascending order are: [1, 1, 1, 1, 1, 1, 1, 1, 1, 2, 2, 2, 2, 2, 2, 2, 2, 2, 2, 2]\n",
            "The last 20 items on the list in ascending order are: [99, 99, 99, 99, 99, 99, 99, 99, 99, 99, 99, 99, 99, 99, 100, 100, 100, 100, 100, 100]\n",
            "The first 20 items on the list in descending order are: [100, 100, 100, 100, 100, 100, 99, 99, 99, 99, 99, 99, 99, 99, 99, 99, 99, 99, 99, 99]\n",
            "The last 20 items on the list in descending order are: [2, 2, 2, 2, 2, 2, 2, 2, 2, 2, 2, 1, 1, 1, 1, 1, 1, 1, 1, 1]\n"
          ]
        }
      ]
    },
    {
      "cell_type": "markdown",
      "metadata": {
        "id": "_OF-Xuj1UrW0"
      },
      "source": [
        "---\n",
        "### Exercise 7 - get statistics (max(), min(), sum() )\n",
        "\n",
        "Write a function which will:\n",
        "*   print the maximum and minimum numbers in the `nums` list  \n",
        "*   print the sum of the `nums` list\n",
        "*   calculate and print the average of the `nums` list (using `len()` to help)"
      ]
    },
    {
      "cell_type": "code",
      "metadata": {
        "id": "9YmYMenZVGod",
        "colab": {
          "base_uri": "https://localhost:8080/"
        },
        "outputId": "2f04206f-fc94-408e-acd0-33d07af32d51"
      },
      "source": [
        "def print_num():\n",
        "\n",
        "  print(\"The maximum number on this list is: \", max(nums))\n",
        "\n",
        "  print(\"The minimum number on this list is: \", min(nums))\n",
        "\n",
        "  print(\"The sum of number on this list is: \", sum(nums))\n",
        "\n",
        "  average_list = sum(nums) / len(nums)\n",
        "\n",
        "  print(\"The average of the numbers on this list is: \", average_list)\n",
        "\n",
        "print_num()"
      ],
      "execution_count": 13,
      "outputs": [
        {
          "output_type": "stream",
          "name": "stdout",
          "text": [
            "The maximum number on this list is:  100\n",
            "The minimum number on this list is:  1\n",
            "The sum of number on this list is:  51193\n",
            "The average of the numbers on this list is:  51.193\n"
          ]
        }
      ]
    },
    {
      "cell_type": "markdown",
      "metadata": {
        "id": "Mn4tHQ_KVbHa"
      },
      "source": [
        "---\n",
        "### Exercise 8 - percentage difference\n",
        "\n",
        "Write a function which will:\n",
        "*   generate a new list called **ex8_nums** using `get_num_list()`\n",
        "*   calculate and print the percentage difference between the first number in each list (as a percentage of the number in the nums list) (Hint:  find the difference between the two numbers, divide the difference by the number in `nums` and multiply by 100)\n",
        "*   calculate and print the percentage difference between the last numbers in each list in the same way\n",
        "*   calculate and print the percentage difference between the middle numbers in each list in the same way.\n",
        "*   calculate and print the percentage difference between the sums of each list in the same way"
      ]
    },
    {
      "cell_type": "code",
      "metadata": {
        "id": "nJCQjZIeZL0e",
        "colab": {
          "base_uri": "https://localhost:8080/"
        },
        "outputId": "10bea5b9-0d5a-4ea1-b732-ba700ca8ba28"
      },
      "source": [
        "def percentage_difference():\n",
        "\n",
        "  ex8_nums = []\n",
        "\n",
        "  for i in get_num_list():\n",
        "\n",
        "    ex8_nums.append(i)\n",
        "\n",
        "#part 1\n",
        "\n",
        "  first_ex8 = ex8_nums[1]\n",
        "\n",
        "  first_get_nums = nums[1]\n",
        "\n",
        "  percentage_difference = ((first_ex8 - first_get_nums) / len(nums)) * 100\n",
        "\n",
        "  print(\"% difference between first numbers: \", percentage_difference, \"%\")\n",
        "\n",
        "#part 2\n",
        "\n",
        "  last_ex8 = ex8_nums[-1]\n",
        "\n",
        "  last_nums = nums[-1]\n",
        "\n",
        "  percentage_difference = ((last_ex8 - last_nums) / len(nums)) * 100\n",
        "\n",
        "  print(\"% difference between last numbers: \", percentage_difference, \"%\")\n",
        "\n",
        "#part 3\n",
        "\n",
        "  middle_ex8 = ex8_nums[500]\n",
        "\n",
        "  middle_nums = nums[500]\n",
        "\n",
        "  percentage_difference = ((middle_ex8 - middle_nums) / len(nums)) * 100\n",
        "\n",
        "  print(\"% difference between the middle numbers: \", percentage_difference, \"%\")\n",
        "\n",
        "#part 4\n",
        "\n",
        "  sum_ex8 = sum(ex8_nums)\n",
        "\n",
        "  sum_nums = sum(nums)\n",
        "\n",
        "  percentage_difference = ((sum_ex8 - sum_nums) / len(nums)) * 100\n",
        "\n",
        "  print(\"% difference of the sum of the two lists is: \", percentage_difference, \"%\")\n",
        "\n",
        "percentage_difference()"
      ],
      "execution_count": 46,
      "outputs": [
        {
          "output_type": "stream",
          "name": "stdout",
          "text": [
            "% difference between first numbers:  -0.3 %\n",
            "% difference between last numbers:  4.0 %\n",
            "% difference between the middle numbers:  0.8 %\n",
            "% difference of the sum of the two lists is:  -237.1 %\n"
          ]
        }
      ]
    },
    {
      "cell_type": "markdown",
      "metadata": {
        "id": "HNs3lZmYawFO"
      },
      "source": [
        "---\n",
        "### Exercise 9 - characteristic counts\n",
        "\n",
        "Write a function which will:\n",
        "*  iterate through the `protected_characteristics` tuple and for each **characteristic**:\n",
        "*   *   count the number of occurrences of that `characteristic` in the `characteristics` list\n",
        "*   *   print the `protected_characteristic` and the **count**  \n",
        "\n",
        "Example expected output:\n",
        "\n",
        "age 100  \n",
        "disability 120  \n",
        "gender reassignment 120  \n",
        "marriage and civil partnership 111  \n",
        "pregnancy and maternity 103  \n",
        "race 106  \n",
        "religion or belief 95  \n",
        "sex 110  \n",
        "sexual orientation 113  \n",
        "\n",
        "Extra learning:  you can read [here](https://thispointer.com/python-how-to-pad-strings-with-zero-space-or-some-other-character/) how to justify the printed characteristic so that the output is organised into two columns as shown below:  \n",
        "![tabulated output](https://drive.google.com/uc?id=1CCXfX6K5ZeDefnq7vUsqxCDmqvcfY8Mz)\n",
        "\n",
        "\n",
        "\n"
      ]
    },
    {
      "cell_type": "code",
      "metadata": {
        "id": "GURT11albqUs",
        "colab": {
          "base_uri": "https://localhost:8080/"
        },
        "outputId": "7e2faebf-6037-4958-e3ad-afab95bdf16f"
      },
      "source": [
        "def countX(characteristics, x):\n",
        "  count = 0\n",
        "  for i in characteristics:\n",
        "    if (i == x):\n",
        "      count += 1\n",
        "  return count\n",
        "\n",
        "print(\"age\",str(countX(characteristics,\"age\")).rjust(30, ' '))\n",
        "\n",
        "print(\"disability\",str(countX(characteristics,\"disability\")).rjust(23, ' '))\n",
        "\n",
        "print(\"gender reassignment\",str(countX(characteristics,\"gender reassignment\")).rjust(14, ' '))\n",
        "\n",
        "print(\"marriage and civil partnership\",str(countX(characteristics,\"marriage and civil partnership\")).rjust(0, ' '))\n",
        "\n",
        "print(\"pregnancy and maternity\",str(countX(characteristics,\"pregnancy and maternity\")).rjust(10, ' '))\n",
        "\n",
        "print(\"race\",str(countX(characteristics,\"race\")).rjust(29, ' '))\n",
        "\n",
        "print(\"religion or belief\",str(countX(characteristics,\"religion or belief\")).rjust(15, ' '))\n",
        "\n",
        "print(\"sex\",str(countX(characteristics,\"sex\")).rjust(30, ' '))\n",
        "\n",
        "print(\"sexual orientation\",str(countX(characteristics,\"sexual orientation\")).rjust(15, ' '))"
      ],
      "execution_count": 110,
      "outputs": [
        {
          "output_type": "stream",
          "name": "stdout",
          "text": [
            "age                            424\n",
            "disability                     435\n",
            "gender reassignment            416\n",
            "marriage and civil partnership 413\n",
            "pregnancy and maternity        448\n",
            "race                           433\n",
            "religion or belief             407\n",
            "sex                            425\n",
            "sexual orientation             448\n"
          ]
        }
      ]
    },
    {
      "cell_type": "code",
      "source": [],
      "metadata": {
        "id": "sAHabsSBaPsw"
      },
      "execution_count": null,
      "outputs": []
    },
    {
      "cell_type": "markdown",
      "metadata": {
        "id": "9Po7yQj-ds38"
      },
      "source": [
        "---\n",
        "### Exercise 10 - characteristics statistics\n",
        "\n",
        "Assuming that the `characteristics` list may have been taken from a study of cases that have been taken to court in relation to the Equality Act.  \n",
        "\n",
        "Write a function which will:\n",
        "\n",
        "*   find the most common characteristic resulting in court action, from this population\n",
        "*   print this in a message, e.g. The characteristic with the highest number of court cases is:  *characteristic*\n",
        "*   print the list of `protected_characteristics`, on one line if possible - see [here](https://www.geeksforgeeks.org/g-fact-25-print-single-multiple-variable-python/)\n",
        "*   ask the user to enter a characteristic that they would like to see statistics on and use a while loop to continue until the user has entered a valid characteristic\n",
        "*   print the characteristic, its frequency and the percentage that this frequency is of the whole population."
      ]
    },
    {
      "cell_type": "code",
      "metadata": {
        "id": "uk_I5z7UgbDs",
        "colab": {
          "base_uri": "https://localhost:8080/"
        },
        "outputId": "c5ad968a-d477-49fb-d2f5-ade00db78019"
      },
      "source": [
        "from collections import Counter\n",
        "\n",
        "def characteristics_statistics():\n",
        "\n",
        "  most_common_char = Counter(characteristics).most_common(1)\n",
        "\n",
        "  print(\"\\n The characteristic with the highest number of court cases is: \", *most_common_char)\n",
        "\n",
        "  print(\"\\n These are the available characteristics to consult: \\n\", *protected_characteristics, sep = \"    \")\n",
        "\n",
        "  menu_option = \"\"\n",
        "\n",
        "  while menu_option == \"\":\n",
        "\n",
        "    menu_option = input(\"\\n Please enter a valid characteristic: \")\n",
        "\n",
        "    percentage = round(((characteristics.count(menu_option) / len(characteristics)) * 100),2)\n",
        "\n",
        "    if menu_option in protected_characteristics:\n",
        "\n",
        "      print(\"\\n The characteristic\", menu_option, \"has been taken to court\", characteristics.count(menu_option), \"times\", \"(\", percentage, \"% of total cases).\")\n",
        "\n",
        "    else:\n",
        "\n",
        "      print(\"\\n Please enter a valid option!\")\n",
        "\n",
        "      menu_option = \"\"\n",
        "\n",
        "characteristics_statistics()"
      ],
      "execution_count": 151,
      "outputs": [
        {
          "output_type": "stream",
          "name": "stdout",
          "text": [
            "\n",
            " The characteristic with the highest number of court cases is:  ('pregnancy and maternity', 448)\n",
            "\n",
            " These are the available characteristics to consult: \n",
            "    age    disability    gender reassignment    marriage and civil partnership    pregnancy and maternity    race    religion or belief    sex    sexual orientation\n",
            "\n",
            " Please enter a valid characteristic: tfwerfe\n",
            "\n",
            " Please enter a valid option!\n",
            "\n",
            " Please enter a valid characteristic: age\n",
            "\n",
            " The characteristic age has been taken to court 424 times ( 11.02 % of total cases).\n"
          ]
        }
      ]
    }
  ]
}