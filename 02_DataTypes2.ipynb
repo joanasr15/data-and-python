{
  "nbformat": 4,
  "nbformat_minor": 0,
  "metadata": {
    "colab": {
      "provenance": [],
      "include_colab_link": true
    },
    "kernelspec": {
      "name": "python3",
      "display_name": "Python 3"
    }
  },
  "cells": [
    {
      "cell_type": "markdown",
      "metadata": {
        "id": "view-in-github",
        "colab_type": "text"
      },
      "source": [
        "<a href=\"https://colab.research.google.com/github/joanasr15/data-and-python/blob/main/02_DataTypes2.ipynb\" target=\"_parent\"><img src=\"https://colab.research.google.com/assets/colab-badge.svg\" alt=\"Open In Colab\"/></a>"
      ]
    },
    {
      "cell_type": "markdown",
      "metadata": {
        "id": "3O7iro_BV0mL"
      },
      "source": [
        "# Data Types and Operators\n",
        "\n",
        "---"
      ]
    },
    {
      "cell_type": "markdown",
      "metadata": {
        "id": "ZQgTpaaKLIsF"
      },
      "source": [
        "# Changing Data Input Type\n",
        "**Recap**: to get input from the user and store it in a variable, use the instruction  \n",
        "\n",
        "*variableName = input(\"message asking user for required information\")  *\n",
        "\n",
        "**Remember**: Unless you state otherwise, all input is String data  \n",
        "\n",
        "Integers are whole numbers and can be both positive or negative.  \n",
        "Floats are decimal numbers which have a 'floating' decimal point.  \n",
        "To change the input data type, we can specify the type of data we would like from the user  \n",
        "\n",
        "*variableNameInteger = int(input(\"Please input a whole number \"))*  \n",
        "\n",
        "*variableNameFloat = float(input(\"Please input a decimal number \")) *\n",
        "\n",
        "By using either *int()* or *float()* it tells Python what kind of data will be stored in the variable  \n"
      ]
    },
    {
      "cell_type": "code",
      "metadata": {
        "id": "5usXzQ4OLDx3"
      },
      "source": [],
      "execution_count": null,
      "outputs": []
    },
    {
      "cell_type": "markdown",
      "metadata": {
        "id": "y9KJWVXhLcAB"
      },
      "source": [
        "---\n",
        "### Exercise 1 - changing data type\n",
        "Write a function called **print_details()** which will:  \n",
        "\n",
        "*  ask the user their name, age and height in metres  \n",
        "*  print the message Hello `name` you are `age` years old and `height` metres tall  \n",
        "\n",
        "*Remember to specify the correct data type for each input*   \n",
        "\n",
        "Test Input:  \n",
        "Jean  \n",
        "52  \n",
        "2.3  \n",
        "\n",
        "Expected Output:  \n",
        "Hello Jean you are 52 years old and 2.3 metres tall\n"
      ]
    },
    {
      "cell_type": "code",
      "metadata": {
        "id": "zA85A39JLzfF",
        "colab": {
          "base_uri": "https://localhost:8080/"
        },
        "outputId": "2849dd9a-e50d-4d08-c6a3-befb7c137c3d"
      },
      "source": [
        "def print_details():\n",
        "  name = input(\"What's your name? \")\n",
        "\n",
        "  age = int(input(\"How old are you? \"))\n",
        "\n",
        "  height = float(input(\"How tall are you (in meters)? \"))\n",
        "\n",
        "  print(\"Hello\", name, \"you are\", age, \"years old and\", height, \"meters tall\")\n",
        "\n",
        "print_details()\n",
        "\n"
      ],
      "execution_count": 4,
      "outputs": [
        {
          "output_type": "stream",
          "name": "stdout",
          "text": [
            "What's your name? Jean\n",
            "How old are you? 52\n",
            "How tall are you (in meters)? 2.3\n",
            "Hello Jean you are 52 years old and 2.3 meters tall\n"
          ]
        }
      ]
    },
    {
      "cell_type": "markdown",
      "metadata": {
        "id": "_tBD2cGDW1GB"
      },
      "source": [
        "---\n",
        "### Exercise 2 - boolean variables\n",
        "\n",
        "A **boolean variable** can hold just two values, True or False.  This type of variable is hugely valuable in holding onto the state of things.  For example, a boolean variable called loggedIn might hold True if the user is loggedIn and False otherwise.  This means that at any point while a program is running, it is possible to ask the question \"Is the user logged in?\".  The answer will depend on the value of the variable loggedIn.  \n",
        "\n",
        "Although we will use the values True and False as words, Python stores them as 1 for true and 0 for false.   \n",
        "\n",
        "To demonstrate this, write a function called **show_trueFalse()** which will:  \n",
        "\n",
        "*  create a variable called **logged_in** and assign it the value True (use the assignment operator **=** the same as usual)  \n",
        "*  create a variable called **logged_in_as_num** and assign it the value int(True)  \n",
        "*  print `logged_in` and `logged_in_as_num`\n",
        "\n",
        "Expected output:  \n",
        "True 1\n",
        "\n",
        "When you have run this, change True to False in both places.\n",
        "\n",
        "Expected output:  \n",
        "False 0\n"
      ]
    },
    {
      "cell_type": "code",
      "metadata": {
        "id": "XNHcNQEKW8xj",
        "colab": {
          "base_uri": "https://localhost:8080/"
        },
        "outputId": "c92411fe-5ac0-44e8-d69e-97d90c03b5e8"
      },
      "source": [
        "def show_trueFalse():\n",
        "  logged_in = False\n",
        "\n",
        "  logged_in_as_num = int(False)\n",
        "\n",
        "  print(logged_in)\n",
        "  print(logged_in_as_num)\n",
        "\n",
        "show_trueFalse()\n"
      ],
      "execution_count": 6,
      "outputs": [
        {
          "output_type": "stream",
          "name": "stdout",
          "text": [
            "False\n",
            "0\n"
          ]
        }
      ]
    },
    {
      "cell_type": "markdown",
      "metadata": {
        "id": "r8O47uBPW9Gy"
      },
      "source": [
        "---\n",
        "### Exercise 3 - converting float to int\n",
        "\n",
        "Write a function called **count_poundCoins()** which will:  \n",
        "\n",
        "*  ask the user to enter an amount in pounds and pence and assign this value to a float variable called **pounds_pence**  \n",
        "*  convert the float variable to int and assign this value to a variable called **pound_coins**  \n",
        "*  print the message Number of pound coins `pound_coins`  \n",
        "\n",
        "Test input:  \n",
        "3.48  \n",
        "\n",
        "Expected output:  \n",
        "Number of pound coins 3\n",
        "\n"
      ]
    },
    {
      "cell_type": "code",
      "metadata": {
        "id": "aTO1l1iNXUNt",
        "colab": {
          "base_uri": "https://localhost:8080/"
        },
        "outputId": "a603b525-7144-428e-a682-089137d4eef6"
      },
      "source": [
        "def count_poundCoins():\n",
        "  pounds_pence = float(input(\"How many pence do you have? \"))\n",
        "\n",
        "  pounds_coins = int(pounds_pence)\n",
        "\n",
        "  print(\"Number of pound coins:\", pounds_coins)\n",
        "\n",
        "count_poundCoins()"
      ],
      "execution_count": 11,
      "outputs": [
        {
          "output_type": "stream",
          "name": "stdout",
          "text": [
            "How many pence do you have? 3.48\n",
            "Number of pound coins: 3\n"
          ]
        }
      ]
    },
    {
      "cell_type": "markdown",
      "metadata": {
        "id": "Wy_L3E_-XUWa"
      },
      "source": [
        "---\n",
        "### Exercise 4 - converting int to string\n",
        "\n",
        "Write a function called **format_currency()** which will:\n",
        "\n",
        "*  ask the user to enter a number of pounds and assign this to an integer variable called **num_pounds**  \n",
        "*  convert numPounds to a string and assign it to a variable called **pounds**  \n",
        "*  create a String variable called **currency** which has a \"£\", pounds, \".00\" joined together\n",
        "*  print the resulting currency, including the £ sign  \n",
        "\n",
        "Test input:  \n",
        "4\n",
        "\n",
        "Expected output:  \n",
        "£4.00\n"
      ]
    },
    {
      "cell_type": "code",
      "metadata": {
        "id": "2hHoJyjMXXUK",
        "colab": {
          "base_uri": "https://localhost:8080/"
        },
        "outputId": "1fa47cf4-aa17-4783-8262-1cf9eca6b815"
      },
      "source": [
        "def format_currency():\n",
        "  num_pounds = int(input(\"Enter number of pounds: \"))\n",
        "\n",
        "  pounds = str(num_pounds)\n",
        "\n",
        "  currency = \"£\"+pounds+\".00\"\n",
        "\n",
        "  print(currency)\n",
        "\n",
        "format_currency()\n"
      ],
      "execution_count": 18,
      "outputs": [
        {
          "output_type": "stream",
          "name": "stdout",
          "text": [
            "Enter number of pounds: 4\n",
            "£4.00\n"
          ]
        }
      ]
    },
    {
      "cell_type": "markdown",
      "metadata": {
        "id": "nBZqJ5d7XXdc"
      },
      "source": [
        "---\n",
        "### Exercise 5 - area of a circle\n",
        "\n",
        "Write a function called **calculate_area()** which will:\n",
        "\n",
        "*  ask the user to enter the **radius** of a circle (which could be a float or an int)  \n",
        "*  create a variable called **pi** and assign it the value 3.14159\n",
        "*  calculate the **area** of the circle (`area = pi * radius * radius`)  \n",
        "*  print the area of the circle to 2 decimal places (`print(round(area, 2))` ).  \n",
        "\n",
        "Test input:  \n",
        "5\n",
        "\n",
        "Expected output:  \n",
        "78.54"
      ]
    },
    {
      "cell_type": "code",
      "metadata": {
        "id": "GbkuKY-_dwn0",
        "colab": {
          "base_uri": "https://localhost:8080/"
        },
        "outputId": "b2d5a8a6-a132-4c68-bf57-1c984b8ced4f"
      },
      "source": [
        "def calculate_area():\n",
        "  radius = float(input(\"What's the radius of the circle? \"))\n",
        "\n",
        "  pi = 3.14159\n",
        "\n",
        "  area = pi*radius*radius\n",
        "\n",
        "  print(round(area,2))\n",
        "\n",
        "calculate_area()"
      ],
      "execution_count": 19,
      "outputs": [
        {
          "output_type": "stream",
          "name": "stdout",
          "text": [
            "What's the radius of the circle? 5\n",
            "78.54\n"
          ]
        }
      ]
    }
  ]
}