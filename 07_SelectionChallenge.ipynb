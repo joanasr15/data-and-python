{
  "nbformat": 4,
  "nbformat_minor": 0,
  "metadata": {
    "colab": {
      "provenance": [],
      "include_colab_link": true
    },
    "kernelspec": {
      "name": "python3",
      "display_name": "Python 3"
    }
  },
  "cells": [
    {
      "cell_type": "markdown",
      "metadata": {
        "id": "view-in-github",
        "colab_type": "text"
      },
      "source": [
        "<a href=\"https://colab.research.google.com/github/joanasr15/data-and-python/blob/main/07_SelectionChallenge.ipynb\" target=\"_parent\"><img src=\"https://colab.research.google.com/assets/colab-badge.svg\" alt=\"Open In Colab\"/></a>"
      ]
    },
    {
      "cell_type": "markdown",
      "metadata": {
        "id": "-QxAKPD8DZfj"
      },
      "source": [
        "# Three selection challenges\n",
        "\n",
        "---\n"
      ]
    },
    {
      "cell_type": "markdown",
      "metadata": {
        "id": "2KYUALILDcM9"
      },
      "source": [
        "### Challenge 1 - password format  \n",
        "\n",
        "Write a function called **check_password_valid()** which will check the validity of a **password** input by a user.\n",
        "\n",
        "Rules for a valid password are:  \n",
        "\n",
        "*  At least 1 letter between [a-z] and 1 letter between [A-Z].\n",
        "*  At least 1 number between [0-9].\n",
        "*  At least 1 character from [$#@].\n",
        "*  Minimum length 6 characters.\n",
        "*  Maximum length 16 characters.  \n",
        "\n",
        "Let the user know if the `password` they have typed is valid and, if not, where was the first error.\n",
        "\n",
        "*Hint:  to test if a set of characters is present in a password String, you can use re.search('[character set]', `password`)*  \n",
        "\n",
        "Example:   \n",
        "*if re.search('[a-z]',`password`):*    \n",
        "if there is at least 1 character a-z in the password, re.search will not be None.\n",
        "\n",
        "**re** is a pre-written Python function for pattern searching in Strings.  It has been imported for you in the code cell below.  "
      ]
    },
    {
      "cell_type": "code",
      "metadata": {
        "id": "8wBK9IA4BO2e",
        "colab": {
          "base_uri": "https://localhost:8080/"
        },
        "outputId": "912268b2-c168-4a33-8c25-4048fece0e75"
      },
      "source": [
        "import re\n",
        "\n",
        "def check_password_valid():\n",
        "\n",
        "  password = input(\"Enter your password: \")\n",
        "\n",
        "  if re.search('[a-z]',password) == None:\n",
        "    print(\"Your password must contain at least one lowercase letter between a and z\")\n",
        "\n",
        "  elif re.search('[A-Z]',password) == None:\n",
        "    print(\"Your password must contain at least one uppercase letter between A and Z\")\n",
        "\n",
        "  elif re.search('[0-9]',password) == None:\n",
        "    print(\"Your password must contain at least one number between 0 and 9\")\n",
        "\n",
        "  elif re.search('[$#@]',password) == None:\n",
        "    print(\"Your password must contain at least one character from this selection $#@\")\n",
        "\n",
        "  elif len(password) < 6:\n",
        "    print(\"Your password must have at least 6 characters\")\n",
        "\n",
        "  elif len(password) > 16:\n",
        "    print(\"Your password must have at most 16 characters\")\n",
        "\n",
        "  else:\n",
        "    print(\"Your password is valid!\")\n",
        "\n",
        "check_password_valid()"
      ],
      "execution_count": 6,
      "outputs": [
        {
          "output_type": "stream",
          "name": "stdout",
          "text": [
            "Enter your password: Aa1#\n",
            "Your password must have at least 6 characters\n"
          ]
        }
      ]
    },
    {
      "cell_type": "markdown",
      "metadata": {
        "id": "f0R4GYTEFQS-"
      },
      "source": [
        "---\n",
        "### Challenge 2 - triangle shape  \n",
        "\n",
        "Write a function called **evaluate_triangle_shape()** which will check if a triangle is equilateral, isosceles or scalene, based on the three side lengths entered by a user (**x**, **y** and **z**.\n",
        "\n",
        "An equilateral triangle is a triangle in which all three sides are equal.\n",
        "A scalene triangle is a triangle that has three unequal sides.\n",
        "An isosceles triangle is a triangle with (at least) two equal sides.\n",
        "\n",
        "For example:  \n",
        "A triange with side lengths                                 \n",
        "x: 6                                                                    \n",
        "y: 8                                                                    \n",
        "z: 12                                                                   \n",
        "is a *Scalene triangle*\n",
        "\n",
        "A triangle with side lengths\n",
        "x:5  \n",
        "y:3   \n",
        "z:5  \n",
        "is an *Isosceles triangle*"
      ]
    },
    {
      "cell_type": "code",
      "metadata": {
        "id": "oBgl4ro1DVL0",
        "colab": {
          "base_uri": "https://localhost:8080/"
        },
        "outputId": "70d958d8-ab24-4c4c-9cf4-66680fc5500a"
      },
      "source": [
        "def evaluate_triangle_shape():\n",
        "\n",
        "    first_side = float(input(\"Please enter the length of the first side of the triangle: \"))\n",
        "\n",
        "    second_side = float(input(\"Please enter the length of the second side of the triangle: \"))\n",
        "\n",
        "    third_side = float(input(\"Please enter the length of the third side of the triangle: \"))\n",
        "\n",
        "    if first_side == second_side and first_side == third_side:\n",
        "      print(\"The triangle is equilateral\")\n",
        "\n",
        "    elif first_side != second_side and first_side != third_side and second_side != third_side:\n",
        "      print(\"The triangle is scalene\")\n",
        "\n",
        "    else:\n",
        "      print(\"The triangle is isosceles\")\n",
        "\n",
        "evaluate_triangle_shape()"
      ],
      "execution_count": 8,
      "outputs": [
        {
          "output_type": "stream",
          "name": "stdout",
          "text": [
            "Please enter the length of the first side of the triangle: 5\n",
            "Please enter the length of the second side of the triangle: 3\n",
            "Please enter the length of the third side of the triangle: 5\n",
            "The triangle is isosceles\n"
          ]
        }
      ]
    },
    {
      "cell_type": "markdown",
      "metadata": {
        "id": "hr2EotkqG33l"
      },
      "source": [
        "---\n",
        "### Challenge 3 - which season\n",
        "\n",
        "Write a function called **determine_season()** which will ask the user to enter two integers representing a **month** and **day** and prints the season for that month and day.\n",
        "\n",
        "Note:  for this exercise the season dates are:\n",
        "*  Winter December 21 to March 20    \n",
        "*  Spring March 21 to June 20  \n",
        "*  Summer June 21 to September 20  \n",
        "*  Autumn September 21 to December 20\n",
        "\n",
        "Test input:  \n",
        "Input the month (e.g. January, February etc.): 7                     \n",
        "Input the day: 31                                                       \n",
        "\n",
        "Expected output:  \n",
        "Season is summer\n",
        "\n",
        "*Note: this will require multiple and or or operators and you should use brackets to help Python know which operations to do first*  \n",
        "\n",
        "*For an extra challenge you can check that the day is valid for the month*"
      ]
    },
    {
      "cell_type": "code",
      "metadata": {
        "id": "cvbfz8nzG4IL",
        "colab": {
          "base_uri": "https://localhost:8080/"
        },
        "outputId": "594b99fe-e9ba-4ce2-8c90-f5963af47084"
      },
      "source": [
        "def determine_season():\n",
        "\n",
        "  month = int(input(\"Please enter the month: \"))\n",
        "\n",
        "  day = int(input(\"Please enter the day: \"))\n",
        "\n",
        "  if (month==12 and day>=21 and day<=31) or (month==1 and day<=31) or (month==2 and day<=28) or (month==3 and day <=20):\n",
        "    print(\"The season is Winter\")\n",
        "\n",
        "  elif (month==3 and day>=21 and day<=31) or (month==4 and day<=30) or (month==5 and day <=31) or (month==6 and day <=20):\n",
        "    print(\"The season is Spring\")\n",
        "\n",
        "  elif (month==6 and day>=21 and day<=30) or (month==7 and day <=31) or (month==8 and day<=31) or (month==9 and day <=20):\n",
        "    print(\"The season is Summer\")\n",
        "\n",
        "  elif (month==9 and day>=21 and day<=30) or (month==10 and day<=31) or (month==11 and day<=30) or (month==12 and day <=20):\n",
        "    print(\"The season is Autumn\")\n",
        "\n",
        "  else:\n",
        "    print(\"Date was not recognised. Please try again.\")\n",
        "\n",
        "determine_season()"
      ],
      "execution_count": 11,
      "outputs": [
        {
          "output_type": "stream",
          "name": "stdout",
          "text": [
            "Please enter the month: 7\n",
            "Please enter the day: 50\n",
            "Date was not recognised. Please try again.\n"
          ]
        }
      ]
    }
  ]
}