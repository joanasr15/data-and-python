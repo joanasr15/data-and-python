{
  "nbformat": 4,
  "nbformat_minor": 0,
  "metadata": {
    "colab": {
      "provenance": [],
      "include_colab_link": true
    },
    "kernelspec": {
      "name": "python3",
      "display_name": "Python 3"
    },
    "language_info": {
      "name": "python"
    }
  },
  "cells": [
    {
      "cell_type": "markdown",
      "metadata": {
        "id": "view-in-github",
        "colab_type": "text"
      },
      "source": [
        "<a href=\"https://colab.research.google.com/github/joanasr15/data-and-python/blob/main/00_Skill_assessment.ipynb\" target=\"_parent\"><img src=\"https://colab.research.google.com/assets/colab-badge.svg\" alt=\"Open In Colab\"/></a>"
      ]
    },
    {
      "cell_type": "markdown",
      "metadata": {
        "id": "-vVXrDTXbDzp"
      },
      "source": [
        "### Exercise 1 - printing\n",
        "---\n",
        "Print \"hello world\"\n",
        "\n",
        "**Expected Output**  \n",
        "hello world"
      ]
    },
    {
      "cell_type": "code",
      "metadata": {
        "id": "Z_Jc0SncbEkM",
        "colab": {
          "base_uri": "https://localhost:8080/"
        },
        "outputId": "fe15192c-6804-4155-eeb3-a847d4c2e34e"
      },
      "source": [
        "\n",
        "print(\"hello world\")"
      ],
      "execution_count": null,
      "outputs": [
        {
          "output_type": "stream",
          "name": "stdout",
          "text": [
            "hello world\n"
          ]
        }
      ]
    },
    {
      "cell_type": "markdown",
      "metadata": {
        "id": "n-u42LuZbPc2"
      },
      "source": [
        "### Exercise 2 - using input\n",
        "---\n",
        "Create an input that asks for the user's name and stores it in a variable called name and `print` it\n",
        "\n",
        "**Test Input**  \n",
        "Marianne\n",
        "\n",
        "**Expected Output**  \n",
        "Marianne"
      ]
    },
    {
      "cell_type": "code",
      "metadata": {
        "id": "02KvhKPdbZW-",
        "colab": {
          "base_uri": "https://localhost:8080/"
        },
        "outputId": "016ea774-a0b9-42f8-e291-47bdf2a0390a"
      },
      "source": [
        "name = input(\"What's your name?\");\n",
        "\n",
        "print(name);\n"
      ],
      "execution_count": null,
      "outputs": [
        {
          "output_type": "stream",
          "name": "stdout",
          "text": [
            "What's your name?Marianne\n",
            "Marianne\n"
          ]
        }
      ]
    },
    {
      "cell_type": "markdown",
      "metadata": {
        "id": "oXpvEknHbZvz"
      },
      "source": [
        "### Exercise 3 - operators and datatypes\n",
        "---\n",
        "\n",
        "Create 2 variables called **num1** and **num2** which each store an input function which asks for a whole number and stores it as an integer\n",
        "\n",
        "Create a third variable called **num3** which sums **num1** and **num2** together\n",
        "\n",
        "**Test Input**  \n",
        "11  \n",
        "22  \n",
        "\n",
        "**Expected Output**  \n",
        "33\n"
      ]
    },
    {
      "cell_type": "code",
      "metadata": {
        "id": "WVnfbWjdcJPD",
        "colab": {
          "base_uri": "https://localhost:8080/"
        },
        "outputId": "a8f9684d-8368-4a37-eb41-14799d9dc9e8"
      },
      "source": [
        "num1 = int(input(\"Give me a whole number\"));\n",
        "\n",
        "num2 = int(input(\"Give me a whole number\"));\n",
        "\n",
        "num3 = num1 + num2;\n",
        "\n",
        "print(num3);"
      ],
      "execution_count": null,
      "outputs": [
        {
          "output_type": "stream",
          "name": "stdout",
          "text": [
            "Give me a whole number11\n",
            "Give me a whole number22\n",
            "33\n"
          ]
        }
      ]
    },
    {
      "cell_type": "markdown",
      "metadata": {
        "id": "EDPftM6dcJzK"
      },
      "source": [
        "### Exercise 4 - using if/else\n",
        "---\n",
        "\n",
        "Use `if` to sum two inputed integers. However, if the sum is between 15 to 20 it will print 20, else return the correct sum\n",
        "\n",
        "**Test Input**  \n",
        "3  \n",
        "15  \n",
        "\n",
        "**Expected Output**  \n",
        "20"
      ]
    },
    {
      "cell_type": "code",
      "metadata": {
        "id": "JPXearXfdPZS",
        "colab": {
          "base_uri": "https://localhost:8080/"
        },
        "outputId": "ef9b52fd-e24e-493e-cbb3-a823416cfdba"
      },
      "source": [
        "num1 = int(input(\"Give me a number\"));\n",
        "\n",
        "num2 = int(input(\"Give me a number\"));\n",
        "\n",
        "num3 = num1 + num2;\n",
        "\n",
        "if num3 <= 20 and num3 >=15:\n",
        "  num3 = 20\n",
        "\n",
        "else:\n",
        "  num3 = num3;\n",
        "\n",
        "print(num3);\n"
      ],
      "execution_count": null,
      "outputs": [
        {
          "output_type": "stream",
          "name": "stdout",
          "text": [
            "Give me a number3\n",
            "Give me a number15\n",
            "20\n"
          ]
        }
      ]
    },
    {
      "cell_type": "markdown",
      "metadata": {
        "id": "c7hKrWgIdPrr"
      },
      "source": [
        "### Exercise 5 - using for loops\n",
        "---\n",
        "`Print` each letter of the string \"supercalifragilistic\" using a `for` loop\n",
        "\n",
        "**Expected Output**   \n",
        "s  \n",
        "u  \n",
        "p  \n",
        "e  \n",
        "r  \n",
        "c  \n",
        "a  \n",
        "l  \n",
        "i  \n",
        "f  \n",
        "r  \n",
        "a  \n",
        "g  \n",
        "i  \n",
        "l  \n",
        "i  \n",
        "s  \n",
        "t  \n",
        "i  \n",
        "c  "
      ]
    },
    {
      "cell_type": "code",
      "metadata": {
        "id": "bxE5C2jYdg2w",
        "colab": {
          "base_uri": "https://localhost:8080/"
        },
        "outputId": "36e1738f-47e6-4228-b70d-f118e38b6456"
      },
      "source": [
        "for letter in \"supercalifragilistic\":\n",
        "  print(letter);\n"
      ],
      "execution_count": null,
      "outputs": [
        {
          "output_type": "stream",
          "name": "stdout",
          "text": [
            "s\n",
            "u\n",
            "p\n",
            "e\n",
            "r\n",
            "c\n",
            "a\n",
            "l\n",
            "i\n",
            "f\n",
            "r\n",
            "a\n",
            "g\n",
            "i\n",
            "l\n",
            "i\n",
            "s\n",
            "t\n",
            "i\n",
            "c\n"
          ]
        }
      ]
    },
    {
      "cell_type": "markdown",
      "metadata": {
        "id": "Bf_wev6UdhPH"
      },
      "source": [
        "### Exercise 6 - using while loops\n",
        "---\n",
        "Write a program that asks the user to enter a positive number.\n",
        "`if` the number entered is not positive (ie it is less than 0) the user will be shown an error message and asked to enter the number again. `if` a positive number is entered, the program should print \"Thankyou, goodbye\"\n",
        "\n",
        "**Test Input**   \n",
        "-1   \n",
        "4\n",
        "\n",
        "\n",
        "**Expected Output**  \n",
        "Error   \n",
        "Thankyou, goodbye"
      ]
    },
    {
      "cell_type": "code",
      "metadata": {
        "id": "muSpMY4vdtfD",
        "colab": {
          "base_uri": "https://localhost:8080/"
        },
        "outputId": "b6575098-f704-46af-feae-535e4d43e916"
      },
      "source": [
        "num1 = int(input(\"Enter a number\"));\n",
        "\n",
        "while num1 <0:\n",
        "  print(\"Error\")\n",
        "  num1 = int(input(\"Enter a number\"))\n",
        "\n",
        "if num1 >=0:\n",
        "  print(\"Thankyou, goodbye\")"
      ],
      "execution_count": null,
      "outputs": [
        {
          "output_type": "stream",
          "name": "stdout",
          "text": [
            "Enter a number-1\n",
            "Error\n",
            "Enter a number4\n",
            "Thankyou, goodbye\n"
          ]
        }
      ]
    },
    {
      "cell_type": "markdown",
      "metadata": {
        "id": "Q-drRJ2kdt4g"
      },
      "source": [
        "### Exercise 7 - lists\n",
        "---\n",
        "The `sorted()` function will sort a list.\n",
        "Create a list of 5 numbers and use the sorted function to sort them, storing the sorted list in a variabled called **sorted_list**\n",
        "\n",
        "**Test Input**  \n",
        "[1, 87, -1, 8, 21]\n",
        "\n",
        "**Expected Output**  \n",
        "[-1, 1, 8, 21, 87]"
      ]
    },
    {
      "cell_type": "code",
      "metadata": {
        "id": "W4MxMJ1ieGqe",
        "colab": {
          "base_uri": "https://localhost:8080/"
        },
        "outputId": "3e6a4852-b5cc-45f2-9a3f-784e0d7bc624"
      },
      "source": [
        "numbers = (1, 87, -1, 8, 21);\n",
        "\n",
        "sorted_list = sorted(numbers);\n",
        "\n",
        "print(sorted_list);"
      ],
      "execution_count": null,
      "outputs": [
        {
          "output_type": "stream",
          "name": "stdout",
          "text": [
            "[-1, 1, 8, 21, 87]\n"
          ]
        }
      ]
    },
    {
      "cell_type": "markdown",
      "metadata": {
        "id": "ZL0wbkQPeG6j"
      },
      "source": [
        "### Exercise 8 - dictionaries\n",
        "---\n",
        "Add an empty dictionary for a person (name, age and postcode). Read a person's details using the `input()` function and store them in your dictionary.\n",
        "\n",
        "Make sure that the entered age is a number.\n",
        "\n",
        "Print the dictionary.  \n",
        "\n",
        "**Test Input**  \n",
        "Dave  \n",
        "24  \n",
        "SE11AB  \n",
        "\n",
        "**Expected Output**  \n",
        "{'name': 'Dave', 'age': 24, 'postcode': 'SE11AB'}"
      ]
    },
    {
      "cell_type": "code",
      "metadata": {
        "id": "jZc7zRAkeglf",
        "colab": {
          "base_uri": "https://localhost:8080/"
        },
        "outputId": "1515aed5-d850-4b37-8caf-0435387072c9"
      },
      "source": [
        "name = input(\"Name\");\n",
        "\n",
        "age = int(input(\"Age\"));\n",
        "\n",
        "postcode = input(\"Postcode\");\n",
        "\n",
        "print(\"Name:\",name,\"Age:\",age,\"Postcode:\",postcode)\n"
      ],
      "execution_count": null,
      "outputs": [
        {
          "output_type": "stream",
          "name": "stdout",
          "text": [
            "NameDave\n",
            "Age24\n",
            "PostcodeSE11AB\n",
            "Name: Dave Age: 24 Postcode: SE11AB\n"
          ]
        }
      ]
    },
    {
      "cell_type": "markdown",
      "metadata": {
        "id": "lpT0N5HqehHK"
      },
      "source": [
        "\n",
        "### Exercise 9 - functions, lists and loops\n",
        "---\n",
        "Write a function to create and `print` a list where the values are square of numbers between 1 and 30 (both included).\n",
        "\n",
        "**Expected Output**  \n",
        "[0, 1, 4, 9, 16, 25, 36, 49, 64, 81, 100, 121, 144, 169, 196, 225, 256, 289, 324, 361, 400, 441, 484, 529, 576, 625, 676, 729, 784, 841, 900]\n"
      ]
    },
    {
      "cell_type": "code",
      "metadata": {
        "id": "_h6r0hAce7ro",
        "colab": {
          "base_uri": "https://localhost:8080/"
        },
        "outputId": "59ccfc1e-345e-4cbc-c129-e0cc05f42b19"
      },
      "source": [
        "for num in range (31):\n",
        "  num = num**2\n",
        "  print(num)\n",
        "\n",
        "\n"
      ],
      "execution_count": null,
      "outputs": [
        {
          "output_type": "stream",
          "name": "stdout",
          "text": [
            "0\n",
            "1\n",
            "4\n",
            "9\n",
            "16\n",
            "25\n",
            "36\n",
            "49\n",
            "64\n",
            "81\n",
            "100\n",
            "121\n",
            "144\n",
            "169\n",
            "196\n",
            "225\n",
            "256\n",
            "289\n",
            "324\n",
            "361\n",
            "400\n",
            "441\n",
            "484\n",
            "529\n",
            "576\n",
            "625\n",
            "676\n",
            "729\n",
            "784\n",
            "841\n",
            "900\n"
          ]
        }
      ]
    },
    {
      "cell_type": "markdown",
      "metadata": {
        "id": "GPoXDPh2e8LB"
      },
      "source": [
        "### Exercise 10 - functions\n",
        "---\n",
        "Create a function called **show_mood** that takes in a current mood as a parameter of the function and `return` a sentence in the following format: \"Today, I am feeling {mood}\". However, `if` an empty string is passed, `return` \"Today, I am feeling neutral\".\n",
        "\n",
        "**Test input**  \n",
        "show_mood(\"happy\")    \n",
        "show_mood(\"sad\")  \n",
        "show_mood(\"\")   \n",
        "\n",
        "**Expected output**  \n",
        "\"Today, I am feeling happy\"  \n",
        "\"Today, I am feeling sad\"  \n",
        "\"Today, I am feeling neutral\"   \n",
        "\n"
      ]
    },
    {
      "cell_type": "code",
      "metadata": {
        "id": "SvF1CessfoqC",
        "colab": {
          "base_uri": "https://localhost:8080/"
        },
        "outputId": "e9bbf611-38d2-4755-c359-87af4920f47f"
      },
      "source": [
        "def show_mood(mood):\n",
        "  if mood == \"\":\n",
        "   print(\"Today, I am feeling neutral\");\n",
        "  else:\n",
        "    print(\"Today, I am feeling\",mood);\n",
        "\n",
        "\n",
        "show_mood(\"happy\");\n",
        "\n",
        "show_mood(\"sad\");\n",
        "\n",
        "show_mood(\"\");\n"
      ],
      "execution_count": null,
      "outputs": [
        {
          "output_type": "stream",
          "name": "stdout",
          "text": [
            "Today, I am feeling happy\n",
            "Today, I am feeling sad\n",
            "Today, I am feeling neutral\n"
          ]
        }
      ]
    },
    {
      "cell_type": "markdown",
      "metadata": {
        "id": "9U9rREgKumh1"
      },
      "source": [
        "### OPTIONAL Challenge\n",
        "---\n",
        "Create a function called **show_mood** that takes in a current mood as a parameter of the function and `return` a sentence in the following format: \"Today, I am feeling {mood}\". **However, if *no argument* is passed, it will assume that the mood is neutral**.\n",
        "\n",
        "**Test input**  \n",
        "show_mood(\"happy\")    \n",
        "show_mood(\"sad\")  \n",
        "show_mood()   \n",
        "\n",
        "**Expected output**  \n",
        "\"Today, I am feeling happy\"  \n",
        "\"Today, I am feeling sad\"  \n",
        "\"Today, I am feeling neutral\"   "
      ]
    },
    {
      "cell_type": "code",
      "metadata": {
        "id": "B2fYBD0Ouw2E"
      },
      "source": [],
      "execution_count": null,
      "outputs": []
    },
    {
      "cell_type": "code",
      "metadata": {
        "colab": {
          "base_uri": "https://localhost:8080/"
        },
        "outputId": "c2e84be3-0f67-4886-a9cd-a91912988edc",
        "id": "ko3n9-xKg2Ox"
      },
      "source": [
        "def show_mood(mood = \"neutral\"):\n",
        "  if mood == \"neutral\":\n",
        "   print(\"Today, I am feeling\",mood);\n",
        "  else:\n",
        "   print(\"Today, I am feeling\",mood);\n",
        "\n",
        "show_mood(\"happy\");\n",
        "\n",
        "show_mood(\"sad\");\n",
        "\n",
        "show_mood();"
      ],
      "execution_count": null,
      "outputs": [
        {
          "output_type": "stream",
          "name": "stdout",
          "text": [
            "Today, I am feeling happy\n",
            "Today, I am feeling sad\n",
            "Today, I am feeling neutral\n"
          ]
        }
      ]
    }
  ]
}